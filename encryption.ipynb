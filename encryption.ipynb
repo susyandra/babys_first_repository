{
  "nbformat": 4,
  "nbformat_minor": 0,
  "metadata": {
    "colab": {
      "provenance": [],
      "authorship_tag": "ABX9TyOO5rMuz930YZWjnAxRnOV2",
      "include_colab_link": true
    },
    "kernelspec": {
      "name": "python3",
      "display_name": "Python 3"
    },
    "language_info": {
      "name": "python"
    }
  },
  "cells": [
    {
      "cell_type": "markdown",
      "metadata": {
        "id": "view-in-github",
        "colab_type": "text"
      },
      "source": [
        "<a href=\"https://colab.research.google.com/github/susyandra/babys_first_repository/blob/main/encryption.ipynb\" target=\"_parent\"><img src=\"https://colab.research.google.com/assets/colab-badge.svg\" alt=\"Open In Colab\"/></a>"
      ]
    },
    {
      "cell_type": "code",
      "execution_count": null,
      "metadata": {
        "id": "L_DDfrB0svRf"
      },
      "outputs": [],
      "source": [
        "def rotate_letters(file_name):\n",
        "  alphabet_up = 'ABCDEFGHIJKLMNOPQRSTUVWXYZ'\n",
        "  alphabet_low = 'abcdefghijklmnopqrstuvwxyz'\n",
        "  shift = 13\n",
        "  shift_char = 0\n",
        "  with open(file_name, \"r\") as file:\n",
        "    text = file.read()\n",
        "    encrypted = \"\"\n",
        "    for char in text:\n",
        "      if char.isalpha():\n",
        "        if char.isupper():\n",
        "          shift_char = (alphabet_up.index(char) + shift) % len(alphabet_up)\n",
        "          encrypted += alphabet_up[shift_char]\n",
        "        else:\n",
        "          shift_char = (alphabet_low.index(char) + shift) % len(alphabet_low)\n",
        "          encrypted += alphabet_low[shift_char]\n",
        "      else:\n",
        "        encrypted += char\n",
        "\n",
        "  with open(\"encrypted_text.txt\",\"w\") as file:\n",
        "    file.write(encrypted)\n",
        "\n",
        "  return encrypted"
      ]
    }
  ]
}